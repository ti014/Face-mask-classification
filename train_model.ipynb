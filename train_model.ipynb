{
 "cells": [
  {
   "cell_type": "markdown",
   "metadata": {},
   "source": [
    "# Tên đề tài: Nhận diện người có đeo khẩu trang hay không?\n",
    "__Tên thành viên:__\n",
    "1. Ngô Quốc Hoàng - 19477071\n",
    "2. Trần Tuấn Vũ - 19474281\n",
    "3. Phan Nguyễn Mai Phương - 19469121\n",
    "4. Nguyễn Tuấn Sinh - 19477821\n"
   ]
  },
  {
   "cell_type": "markdown",
   "metadata": {},
   "source": [
    "## Lý do chọn đề tài:\n",
    "Đại dịch COVID-19 đã khiến cuộc sống của mọi người trở nên đảo lộn và gây ra rất nhiều khó khăn trong sinh hoạt như đi lại, ăn uống,.. Nhiều quốc gia đã bắt buộc người dân của họ phải đeo khẩu trang để bảo về sức khỏe của chính mình cũng như toàn thể xã hội.\n",
    "\n",
    "Để bảo vệ mình khỏi đại dịch COVID-19 hầu hết mọi người trong chúng ta đều có xu hướng đeo khẩu trang. Chính vì thế mà việc kiểm tra những người trong đám đông có đeo khẩu trang ở các tụ điểm công cộng như sân bay, trung tâm mua sắm, công viên, .. hay không rất là cần thiết.\n",
    "\n",
    "Từ lý do đấy, chúng tôi đã quyết định xây dựng một mô hình Mạng CNN đơn giản bằng việc sử dụng TensorFlow với thư viện Keras và OpenCV để phát hiện người có đang đeo khẩu trang hay không. Tôi mong ứng dụng của phương pháp này có thể rất hữu ích cho việc ngăn ngừa và kiểm soát COVID-19."
   ]
  },
  {
   "cell_type": "markdown",
   "metadata": {},
   "source": [
    "## 1. Bài toán phân lớp (Image Classification)\n",
    "Chúng ta phải phân loại các hình ảnh giữa 2 lớp rời rạc: Lớp có đeo khẩu trang và lớp không có đeo khẩu trang.\n",
    "__Mục tiêu:__\n",
    "Phân loại được dữ liệu đầu vào theo yêu cầu bài toán thông qua mô hình phân lớp cụ thể:\n",
    "\n",
    "- Mô hình được huấn luyện bởi một tập dữ liệu đã được gắn nhãn (train set).\n",
    "- Đầu ra của bài toán là mô hình đã được huấn luyện để có thể phân lớp cho một tập dữ liệu chưa được phân lớp (test set).\n",
    "### 1.1. Xây dựng mô hình phân lớp:\n",
    "\n",
    "- Chuẩn bị dữ liệu sơ và các công cụ để crawl dữ liệu, chọn lọc và đánh giá, v..v..\n",
    "- Lựa chọn một số mô hình, có thể triển khai thủ công hoặc tham khảo model fit có sẵn.\n",
    "- Training model bằng dataset - train set.\n",
    "- Đưa ra các accuracy metric và đánh giá.\n",
    "### 1.2. Cơ sở để phân lớp theo yêu cầu bài toán\n",
    "\n",
    "- Áp dụng một số model CNN."
   ]
  },
  {
   "cell_type": "markdown",
   "metadata": {},
   "source": [
    "## 2. Dữ liệu\n",
    "\n",
    "Để xây dựng mô hình này, chúng tôi sẽ sử dụng tập dữ liệu mặt người khi đeo khẩu trang. Có hơn  3402 hình ảnh với khoảng 1701 hình ảnh có người đeo khẩu trang và 1701 hình ảnh mặt người không đeo khẩu trang.\n",
    "\n",
    "### 2.1. Đặc tính ảnh từ dữ liệu:\n",
    "\n",
    "- Ảnh màu kỹ thuật số được crawl từ internet\n",
    "- Bộ dữ liệu được chia làm 2 tập: train set và test set\n",
    "- Kích thước ảnh: không đồng bộ ⇒ để train và test cần resize về cùng kích thước\n",
    "- Số lượng:\n",
    "    - Train set: 2700 ảnh\n",
    "    - Test set: 600 ảnh\n",
    "\n",
    "### 2.1. Đặc tính ảnh vào hệ thống:\n",
    "\n",
    "- Định dạng: jpg, png\n",
    "- Kích cỡ: 150x150\n",
    "- Batch size: 32\n",
    "- Epoch: 70\n",
    "- Learning rate: 0.0001"
   ]
  },
  {
   "cell_type": "markdown",
   "metadata": {},
   "source": [
    "## 3. Kiến thức chung\n",
    "\n",
    "### 3.1. Image classification\n",
    "\n",
    "Bài toán phân loại ảnh: Có đầu vào (input) là ảnh và một danh sách các nhãn (labels), mục tiêu của bài toán là xác định ảnh đầu vào thuộc nhãn nào – hay ouput là nhãn tương ứng với input.\n",
    "\n",
    "### 3.2. Mạng CNN cho bài toán phân lớp\n",
    "\n",
    "Convolutional Neural Networks (CNN) là một trong những mô hình deep learning phổ biến nhất và có ảnh hưởng nhiều nhất trong cộng đồng Computer Vision. CNN được dùng trong trong nhiều bài toán như nhân dạng ảnh, phân tích video, ảnh MRI, hoặc cho bài các bài của lĩnh vự xử lý ngôn ngữ tự nhiên và hầu hết đều giải quyết tốt các bài toán này.\n",
    "#### Cấu trúc CNN:\n",
    "CNN bao gồm tập hợp các lớp cơ bản bao gồm: convolution layer + nonlinear layer, pooling layer, fully connected layer. Các lớp này liên kết với nhau theo một thứ tự nhất định. Thông thường, một ảnh sẽ được lan truyền qua tầng convolution layer + nonlinear layer đầu tiên, sau đó các giá trị tính toán được sẽ lan truyền qua pooling layer, bộ ba convolution layer + nonlinear layer + pooling layer có thể được lặp lại nhiều lần trong network. Và sau đó được lan truyền qua tầng fully connected layer và softmax để tính sác xuất ảnh đó chứa vật thể gì.\n",
    "![](https://thanhvie.com/wp-content/uploads/2020/08/cnn_model.jpeg)\n",
    "##### Convolution Layer\n",
    "Convolution layer là lớp quan trọng nhất và cũng là lớp đầu tiên của của mô hình CNN. Lớp này có chức năng chính là phát hiện các đặc trưng có tính không gian hiệu quả. Trong tầng này có 4 đối tượng chính là: ma trận đầu vào, bộ **filters**, và **receptive field**, **feature map**. Conv layer nhận đầu vào là một ma trận 3 chiều và một bộ filters cần phải học. Bộ filters này sẽ trượt qua từng vị trí trên bức ảnh để tính tích chập (convolution) giữa bộ filter và phần tương ứng trên bức ảnh. Phần tưng ứng này trên bức ảnh gọi là receptive field, tức là vùng mà một neuron có thể nhìn thấy để đưa ra quyết định, và mà trận cho ra bới quá trình này được gọi là feature map\n",
    "\n",
    "- Tầng convolution có chức năng chính là phát hiện đặc trưng cụ thể của bức ảnh. Những đặc trưng này bao gồm đặc trưng cơ bản là góc,cạnh, màu sắc, hoặc đặc trưng phức tạp hơn như texture của ảnh. Vì bộ filter quét qua toàn bộ bức ảnh, nên những đặc trưng này có thể nằm ở vị trí bất kì trong bức ảnh, cho dù ảnh bị xoáy trái/phải thì những đặc trưng này vẫn bị phát hiện.\n",
    "- Kích thước bộ filter là một trong những tham số quan trọng nhất của tầng convolution. Kích thước này tỉ lệ thuận với số tham số cần học tại mỗi tầng convolution và là tham số quyết định receptive field của tầng này. Kích thước phổ biến nhất của bộ filter là 3x3.Kích thước filter nhỏ được ưu tiên lựa chọn thay kích thước lớn.\n",
    "##### Nonlinear Layer\n",
    "ReLU (Rectified Linear Units, f = max(0, x)) là hàm kích hoạt phổ biến nhất cho CNN tại thời điểm của bài viết, được giới thiệu bởi Geoffrey E. Hinton năm 2010. Trước khi hàm ReLU được áp dụng thì những hàm như sigmoid hay tanh mới là những hàm được sử dụng phổ biến. Hàm ReLU được ưa chuộng vì tính toán đơn giản, giúp hạn chế tình trạng vanishing gradient, và cũng cho kết quả tốt hơn. ReLU cũng như những hàm kích hoạt khác, được đặt ngay sau tầng convolution, ReLU sẽ gán những giá trị âm bằng 0 và giữ nguyên giá trị của đầu vào khi lớn hơn 0.\n",
    "\n",
    "ReLU cũng có một số vấn đề tiềm ẩn như không có đạo hàm tại điểm 0, giá trị của hàm ReLU có thể lớn đến vô cùng và nếu chúng ta không khởi tạo trọng số cẩn thận, hoặc khởi tạo learning rate quá lớn thì những neuron ở tầng này sẽ luôn có giá trị < 0.\n",
    "##### Pooling Layer\n",
    "ReLU (Rectified Linear Units, f = max(0, x)) là hàm kích hoạt phổ biến nhất cho CNN tại thời điểm của bài viết, được giới thiệu bởi Geoffrey E. Hinton năm 2010. Trước khi hàm ReLU được áp dụng thì những hàm như sigmoid hay tanh mới là những hàm được sử dụng phổ biến. Hàm ReLU được ưa chuộng vì tính toán đơn giản, giúp hạn chế tình trạng vanishing gradient, và cũng cho kết quả tốt hơn. ReLU cũng như những hàm kích hoạt khác, được đặt ngay sau tầng convolution, ReLU sẽ gán những giá trị âm bằng 0 và giữ nguyên giá trị của đầu vào khi lớn hơn 0.\n",
    "\n",
    "ReLU cũng có một số vấn đề tiềm ẩn như không có đạo hàm tại điểm 0, giá trị của hàm ReLU có thể lớn đến vô cùng và nếu chúng ta không khởi tạo trọng số cẩn thận, hoặc khởi tạo learning rate quá lớn thì những neuron ở tầng này sẽ luôn có giá trị < 0.\n",
    "##### Fully Connected Layer\n",
    "Tầng cuối cùng của mô hình CNN trong bài toán phân loại ảnh là tầng fully connected layer. Tầng này có chức năng chuyển ma trận đặc trưng ở tầng trước thành vector chứa xác suất của các đối tượng cần được dự đoán.\n",
    "\n"
   ]
  },
  {
   "cell_type": "markdown",
   "metadata": {},
   "source": [
    "## Thêm các thư viện cần dùng"
   ]
  },
  {
   "cell_type": "code",
   "execution_count": 13,
   "metadata": {},
   "outputs": [],
   "source": [
    "from tensorflow.keras.preprocessing.image import ImageDataGenerator\n",
    "import tensorflow as tf\n",
    "from tensorflow.keras.layers import Conv2D, MaxPooling2D, Flatten, Dense, Dropout\n",
    "from tensorflow.keras.models import Model\n",
    "from tensorflow.keras.optimizers import Adam\n",
    "from tensorflow.keras.applications.mobilenet_v2 import preprocess_input\n",
    "from tensorflow.keras.preprocessing.image import img_to_array\n",
    "from tensorflow.keras.preprocessing.image import load_img\n",
    "from tensorflow.keras.utils import to_categorical\n",
    "from sklearn.preprocessing import LabelBinarizer\n",
    "from sklearn.model_selection import train_test_split\n",
    "from sklearn.metrics import classification_report\n",
    "from imutils import paths\n",
    "import matplotlib.pyplot as plt\n",
    "import numpy as np\n",
    "import argparse\n",
    "import os"
   ]
  },
  {
   "cell_type": "code",
   "execution_count": 14,
   "metadata": {},
   "outputs": [],
   "source": [
    "# Khởi tạo các thông số learning rate, epoch và batch size, image size cho mô hình\n",
    "INIT_LR = 1e-4\n",
    "EPOCHS = 50\n",
    "BS = 32\n",
    "IMG_HEIGHT = 150\n",
    "IMG_WIDTH = 150"
   ]
  },
  {
   "cell_type": "code",
   "execution_count": 15,
   "metadata": {},
   "outputs": [
    {
     "name": "stdout",
     "output_type": "stream",
     "text": [
      "[INFO] loading images...\n"
     ]
    },
    {
     "data": {
      "text/plain": [
       "3988"
      ]
     },
     "execution_count": 15,
     "metadata": {},
     "output_type": "execute_result"
    }
   ],
   "source": [
    "#Load hình ảnh\n",
    "print(\"[INFO] loading images...\")\n",
    "imagePaths = list(paths.list_images(\"data\"))\n",
    "data = []\n",
    "labels = []\n",
    "len(imagePaths)"
   ]
  },
  {
   "cell_type": "code",
   "execution_count": 16,
   "metadata": {},
   "outputs": [],
   "source": [
    "# Cập nhật list data, list label\n",
    "for imagePath in imagePaths:\n",
    "\t# trích xuất nhãn từ đường dẫn của ảnh\n",
    "\tlabel = imagePath.split(os.path.sep)[-2]\n",
    "\n",
    "\t# load ảnh và xử lý\n",
    "\timage = load_img(imagePath, target_size=(IMG_HEIGHT, IMG_WIDTH))\n",
    "\timage = img_to_array(image)\n",
    "\timage = preprocess_input(image)\n",
    "\n",
    "\tdata.append(image)\n",
    "\tlabels.append(label)\n",
    "\n",
    "# Chuyển đổi data và label sang dạng numpy\n",
    "data = np.array(data, dtype=\"float32\")\n",
    "labels = np.array(labels)\n"
   ]
  },
  {
   "cell_type": "code",
   "execution_count": 17,
   "metadata": {},
   "outputs": [
    {
     "data": {
      "text/plain": [
       "array(['without_mask', 'without_mask', 'without_mask', ..., 'with_mask',\n",
       "       'with_mask', 'with_mask'], dtype='<U12')"
      ]
     },
     "execution_count": 17,
     "metadata": {},
     "output_type": "execute_result"
    }
   ],
   "source": [
    "# len(labels)\n",
    "labels\n"
   ]
  },
  {
   "cell_type": "code",
   "execution_count": 18,
   "metadata": {},
   "outputs": [],
   "source": [
    "# one-hot, encoding labels\n",
    "lb = LabelBinarizer()\n",
    "labels = lb.fit_transform(labels)\n",
    "labels = to_categorical(labels)\n",
    "\n",
    "# chia dữ liệu thành hai tập train, test tương ứng (80%, 20%)\n",
    "(trainX, testX, trainY, testY) = train_test_split(data, labels,\n",
    "\ttest_size=0.20, stratify=labels, random_state=42)"
   ]
  },
  {
   "cell_type": "code",
   "execution_count": 19,
   "metadata": {},
   "outputs": [],
   "source": [
    "# tăng cường dữ liệu\n",
    "aug = ImageDataGenerator(\n",
    "\trotation_range=40,\n",
    "\tzoom_range=0.15,\n",
    "\twidth_shift_range=0.2,\n",
    "\theight_shift_range=0.2,\n",
    "\tshear_range=0.2,\n",
    "\thorizontal_flip=True,\n",
    "\tfill_mode=\"nearest\")"
   ]
  },
  {
   "cell_type": "markdown",
   "metadata": {},
   "source": [
    "## Mô hình huấn luyện"
   ]
  },
  {
   "cell_type": "code",
   "execution_count": 20,
   "metadata": {},
   "outputs": [],
   "source": [
    "#conv2d (thêm hình ảnh...)\n",
    "model = tf.keras.models.Sequential([\n",
    "    Conv2D(32, 3, activation='relu', input_shape=(IMG_HEIGHT, IMG_WIDTH, 3)),\n",
    "    MaxPooling2D(2,2),\n",
    "    Conv2D(64, 3, activation='relu'),\n",
    "    MaxPooling2D(2,2),\n",
    "    Conv2D(64, 3, activation='relu'),\n",
    "    MaxPooling2D(2,2),\n",
    "    # Conv2D(64, 3, activation='relu'),\n",
    "    # MaxPooling2D(2,2),\n",
    "    Conv2D(128, 3, padding='same', activation='relu'),\n",
    "    MaxPooling2D(2,2),\n",
    "    Flatten(),\n",
    "    Dropout(0.3), \n",
    "    Dense(256, activation='relu'),\n",
    "    Dense(2, activation='softmax') # dense layer has a shape of 2 as we have only 2 classes \n",
    "])"
   ]
  },
  {
   "cell_type": "code",
   "execution_count": 21,
   "metadata": {},
   "outputs": [
    {
     "name": "stdout",
     "output_type": "stream",
     "text": [
      "[INFO] compiling model...\n"
     ]
    },
    {
     "name": "stderr",
     "output_type": "stream",
     "text": [
      "C:\\Users\\Hoang\\AppData\\Roaming\\lib\\site-packages\\keras\\optimizer_v2\\adam.py:105: UserWarning: The `lr` argument is deprecated, use `learning_rate` instead.\n",
      "  super(Adam, self).__init__(name, **kwargs)\n"
     ]
    }
   ],
   "source": [
    "# compile\n",
    "print(\"[INFO] compiling model...\")\n",
    "opt = Adam(lr=INIT_LR, decay=INIT_LR / EPOCHS)\n",
    "model.compile(loss=\"binary_crossentropy\", optimizer=opt,\n",
    "\tmetrics=[\"accuracy\"])"
   ]
  },
  {
   "cell_type": "code",
   "execution_count": 22,
   "metadata": {},
   "outputs": [
    {
     "name": "stdout",
     "output_type": "stream",
     "text": [
      "[INFO] training head...\n",
      "Epoch 1/50\n",
      "99/99 [==============================] - 56s 560ms/step - loss: 0.2783 - accuracy: 0.8901 - val_loss: 0.1142 - val_accuracy: 0.9674\n",
      "Epoch 2/50\n",
      "99/99 [==============================] - 48s 479ms/step - loss: 0.1316 - accuracy: 0.9544 - val_loss: 0.1052 - val_accuracy: 0.9749\n",
      "Epoch 3/50\n",
      "99/99 [==============================] - 47s 478ms/step - loss: 0.1191 - accuracy: 0.9611 - val_loss: 0.1062 - val_accuracy: 0.9737\n",
      "Epoch 4/50\n",
      "99/99 [==============================] - 48s 486ms/step - loss: 0.1252 - accuracy: 0.9592 - val_loss: 0.0963 - val_accuracy: 0.9749\n",
      "Epoch 5/50\n",
      "99/99 [==============================] - 48s 485ms/step - loss: 0.1204 - accuracy: 0.9623 - val_loss: 0.0913 - val_accuracy: 0.9799\n",
      "Epoch 6/50\n",
      "99/99 [==============================] - 48s 482ms/step - loss: 0.1109 - accuracy: 0.9630 - val_loss: 0.0932 - val_accuracy: 0.9774\n",
      "Epoch 7/50\n",
      "99/99 [==============================] - 48s 483ms/step - loss: 0.1053 - accuracy: 0.9623 - val_loss: 0.0882 - val_accuracy: 0.9812\n",
      "Epoch 8/50\n",
      "99/99 [==============================] - 48s 481ms/step - loss: 0.1161 - accuracy: 0.9604 - val_loss: 0.0894 - val_accuracy: 0.9774\n",
      "Epoch 9/50\n",
      "99/99 [==============================] - 48s 483ms/step - loss: 0.1021 - accuracy: 0.9658 - val_loss: 0.0812 - val_accuracy: 0.9837\n",
      "Epoch 10/50\n",
      "99/99 [==============================] - 51s 519ms/step - loss: 0.0902 - accuracy: 0.9706 - val_loss: 0.0749 - val_accuracy: 0.9837\n",
      "Epoch 11/50\n",
      "99/99 [==============================] - 49s 497ms/step - loss: 0.0908 - accuracy: 0.9696 - val_loss: 0.0680 - val_accuracy: 0.9837\n",
      "Epoch 12/50\n",
      "99/99 [==============================] - 47s 478ms/step - loss: 0.0849 - accuracy: 0.9668 - val_loss: 0.0742 - val_accuracy: 0.9774\n",
      "Epoch 13/50\n",
      "99/99 [==============================] - 48s 483ms/step - loss: 0.0889 - accuracy: 0.9690 - val_loss: 0.0528 - val_accuracy: 0.9850\n",
      "Epoch 14/50\n",
      "99/99 [==============================] - 48s 484ms/step - loss: 0.0774 - accuracy: 0.9725 - val_loss: 0.0516 - val_accuracy: 0.9837\n",
      "Epoch 15/50\n",
      "99/99 [==============================] - 48s 480ms/step - loss: 0.0761 - accuracy: 0.9731 - val_loss: 0.0430 - val_accuracy: 0.9875\n",
      "Epoch 16/50\n",
      "99/99 [==============================] - 48s 484ms/step - loss: 0.0729 - accuracy: 0.9725 - val_loss: 0.0504 - val_accuracy: 0.9837\n",
      "Epoch 17/50\n",
      "99/99 [==============================] - 48s 484ms/step - loss: 0.0685 - accuracy: 0.9772 - val_loss: 0.0486 - val_accuracy: 0.9862\n",
      "Epoch 18/50\n",
      "99/99 [==============================] - 48s 485ms/step - loss: 0.0687 - accuracy: 0.9763 - val_loss: 0.0380 - val_accuracy: 0.9925\n",
      "Epoch 19/50\n",
      "99/99 [==============================] - 48s 484ms/step - loss: 0.0616 - accuracy: 0.9778 - val_loss: 0.0333 - val_accuracy: 0.9887\n",
      "Epoch 20/50\n",
      "99/99 [==============================] - 43s 437ms/step - loss: 0.0521 - accuracy: 0.9801 - val_loss: 0.0347 - val_accuracy: 0.9925\n",
      "Epoch 21/50\n",
      "99/99 [==============================] - 43s 437ms/step - loss: 0.0676 - accuracy: 0.9747 - val_loss: 0.0333 - val_accuracy: 0.9900\n",
      "Epoch 22/50\n",
      "99/99 [==============================] - 44s 442ms/step - loss: 0.0550 - accuracy: 0.9810 - val_loss: 0.0322 - val_accuracy: 0.9900\n",
      "Epoch 23/50\n",
      "99/99 [==============================] - 47s 475ms/step - loss: 0.0481 - accuracy: 0.9823 - val_loss: 0.0505 - val_accuracy: 0.9799\n",
      "Epoch 24/50\n",
      "99/99 [==============================] - 47s 472ms/step - loss: 0.0534 - accuracy: 0.9823 - val_loss: 0.0316 - val_accuracy: 0.9937\n",
      "Epoch 25/50\n",
      "99/99 [==============================] - 50s 500ms/step - loss: 0.0553 - accuracy: 0.9807 - val_loss: 0.0301 - val_accuracy: 0.9925\n",
      "Epoch 26/50\n",
      "99/99 [==============================] - 49s 497ms/step - loss: 0.0471 - accuracy: 0.9851 - val_loss: 0.0349 - val_accuracy: 0.9925\n",
      "Epoch 27/50\n",
      "99/99 [==============================] - 54s 549ms/step - loss: 0.0412 - accuracy: 0.9854 - val_loss: 0.0279 - val_accuracy: 0.9937\n",
      "Epoch 28/50\n",
      "99/99 [==============================] - 53s 536ms/step - loss: 0.0440 - accuracy: 0.9851 - val_loss: 0.0296 - val_accuracy: 0.9950\n",
      "Epoch 29/50\n",
      "99/99 [==============================] - 53s 534ms/step - loss: 0.0441 - accuracy: 0.9845 - val_loss: 0.0292 - val_accuracy: 0.9925\n",
      "Epoch 30/50\n",
      "99/99 [==============================] - 53s 538ms/step - loss: 0.0460 - accuracy: 0.9854 - val_loss: 0.0305 - val_accuracy: 0.9912\n",
      "Epoch 31/50\n",
      "99/99 [==============================] - 55s 553ms/step - loss: 0.0421 - accuracy: 0.9870 - val_loss: 0.0281 - val_accuracy: 0.9900\n",
      "Epoch 32/50\n",
      "99/99 [==============================] - 56s 567ms/step - loss: 0.0466 - accuracy: 0.9832 - val_loss: 0.0275 - val_accuracy: 0.9925\n",
      "Epoch 33/50\n",
      "99/99 [==============================] - 53s 533ms/step - loss: 0.0417 - accuracy: 0.9864 - val_loss: 0.0332 - val_accuracy: 0.9912\n",
      "Epoch 34/50\n",
      "99/99 [==============================] - 53s 531ms/step - loss: 0.0438 - accuracy: 0.9845 - val_loss: 0.0341 - val_accuracy: 0.9875\n",
      "Epoch 35/50\n",
      "99/99 [==============================] - 55s 557ms/step - loss: 0.0401 - accuracy: 0.9854 - val_loss: 0.0281 - val_accuracy: 0.9912\n",
      "Epoch 36/50\n",
      "99/99 [==============================] - 55s 558ms/step - loss: 0.0364 - accuracy: 0.9880 - val_loss: 0.0285 - val_accuracy: 0.9925\n",
      "Epoch 37/50\n",
      "99/99 [==============================] - 53s 534ms/step - loss: 0.0379 - accuracy: 0.9877 - val_loss: 0.0305 - val_accuracy: 0.9900\n",
      "Epoch 38/50\n",
      "99/99 [==============================] - 55s 556ms/step - loss: 0.0324 - accuracy: 0.9886 - val_loss: 0.0314 - val_accuracy: 0.9912\n",
      "Epoch 39/50\n",
      "99/99 [==============================] - 56s 561ms/step - loss: 0.0384 - accuracy: 0.9873 - val_loss: 0.0261 - val_accuracy: 0.9912\n",
      "Epoch 40/50\n",
      "99/99 [==============================] - 53s 537ms/step - loss: 0.0315 - accuracy: 0.9905 - val_loss: 0.0252 - val_accuracy: 0.9950\n",
      "Epoch 41/50\n",
      "99/99 [==============================] - 53s 537ms/step - loss: 0.0332 - accuracy: 0.9870 - val_loss: 0.0289 - val_accuracy: 0.9925\n",
      "Epoch 42/50\n",
      "99/99 [==============================] - 55s 558ms/step - loss: 0.0265 - accuracy: 0.9915 - val_loss: 0.0269 - val_accuracy: 0.9937\n",
      "Epoch 43/50\n",
      "99/99 [==============================] - 51s 510ms/step - loss: 0.0305 - accuracy: 0.9892 - val_loss: 0.0255 - val_accuracy: 0.9937\n",
      "Epoch 44/50\n",
      "99/99 [==============================] - 45s 452ms/step - loss: 0.0373 - accuracy: 0.9880 - val_loss: 0.0213 - val_accuracy: 0.9950\n",
      "Epoch 45/50\n",
      "99/99 [==============================] - 44s 447ms/step - loss: 0.0323 - accuracy: 0.9892 - val_loss: 0.0353 - val_accuracy: 0.9900\n",
      "Epoch 46/50\n",
      "99/99 [==============================] - 44s 444ms/step - loss: 0.0284 - accuracy: 0.9905 - val_loss: 0.0334 - val_accuracy: 0.9925\n",
      "Epoch 47/50\n",
      "99/99 [==============================] - 44s 447ms/step - loss: 0.0317 - accuracy: 0.9889 - val_loss: 0.0347 - val_accuracy: 0.9887\n",
      "Epoch 48/50\n",
      "99/99 [==============================] - 44s 443ms/step - loss: 0.0336 - accuracy: 0.9892 - val_loss: 0.0245 - val_accuracy: 0.9925\n",
      "Epoch 49/50\n",
      "99/99 [==============================] - 44s 442ms/step - loss: 0.0235 - accuracy: 0.9905 - val_loss: 0.0260 - val_accuracy: 0.9950\n",
      "Epoch 50/50\n",
      "99/99 [==============================] - 45s 452ms/step - loss: 0.0273 - accuracy: 0.9921 - val_loss: 0.0287 - val_accuracy: 0.9925\n"
     ]
    }
   ],
   "source": [
    "# train model\n",
    "print(\"[INFO] training head...\")\n",
    "H = model.fit(\n",
    "\taug.flow(trainX, trainY, batch_size=BS),\n",
    "\tsteps_per_epoch=len(trainX) // BS,\n",
    "\tvalidation_data=(testX, testY),\n",
    "\tvalidation_steps=len(testX) // BS,\n",
    "\tepochs=EPOCHS)"
   ]
  },
  {
   "cell_type": "markdown",
   "metadata": {},
   "source": [
    "__Kết quả:__\n",
    "loss: 0.1102 - accuracy: 0.9572 - val_loss: 0.0549 - val_accuracy: 0.9794"
   ]
  },
  {
   "cell_type": "code",
   "execution_count": 23,
   "metadata": {},
   "outputs": [
    {
     "name": "stdout",
     "output_type": "stream",
     "text": [
      "[INFO] evaluating network...\n",
      "              precision    recall  f1-score   support\n",
      "\n",
      "   with_mask       0.99      0.99      0.99       411\n",
      "without_mask       0.99      0.99      0.99       387\n",
      "\n",
      "    accuracy                           0.99       798\n",
      "   macro avg       0.99      0.99      0.99       798\n",
      "weighted avg       0.99      0.99      0.99       798\n",
      "\n",
      "[INFO] saving mask detector model...\n"
     ]
    }
   ],
   "source": [
    "# đưa ra dự đoán trên tập test\n",
    "print(\"[INFO] evaluating network...\")\n",
    "predIdxs = model.predict(testX, batch_size=BS)\n",
    "\n",
    "# đối với mỗi hình ảnh trong tập test, ta tìm cái index của nhãn sao cho xác suất dự đoán là lớn nhất\n",
    "predIdxs = np.argmax(predIdxs, axis=1)\n",
    "\n",
    "# đánh giá mô hình\n",
    "print(classification_report(testY.argmax(axis=1), predIdxs,\n",
    "\ttarget_names=lb.classes_))\n",
    "\n",
    "# lưu mô hình\n",
    "print(\"[INFO] saving mask detector model...\")\n",
    "model.save(\"mask_detector_113.model\", save_format=\"h5\")\n"
   ]
  },
  {
   "cell_type": "markdown",
   "metadata": {},
   "source": [
    "__Các chỉ số đánh giá:__\n",
    "$$Precision = \\frac{TP}{TP + FP}$$\n",
    "\n",
    "$$Recall = \\frac{TP}{TP + FN}$$\n",
    "\n",
    "Tiêu chí đánh giá **F1** hay **F1-score** là sự kết hợp của 2 tiêu chí đánh giá Precision và Recall\n",
    "\n",
    "$$F_1 = \\frac{2.Precision.Recall}{Precision + Recall}=\\frac{2}{\\frac{1}{Precision}+\\frac{1}{Recall}}$$\n",
    "\n",
    "**F1** là một **trung bình điều hòa (harmonic mean)** của các tiêu chí Precision và Recall\n",
    "\n",
    "•F1 có xu hướng lấy giá trị gần với giá trị nào nhỏ hơn giữa 2 giá trị Precision và Recall\n",
    "\n",
    "•F1 có giá trị lớn nếu cả 2 giá trị Precision và Recall đều lớn\n"
   ]
  },
  {
   "cell_type": "markdown",
   "metadata": {},
   "source": [
    "## Kết quả đạt được:"
   ]
  },
  {
   "cell_type": "code",
   "execution_count": 24,
   "metadata": {},
   "outputs": [
    {
     "data": {
      "image/png": "[encoded data removed]",
      "text/plain": [
       "<Figure size 432x288 with 1 Axes>"
      ]
     },
     "metadata": {},
     "output_type": "display_data"
    }
   ],
   "source": [
    "# vẽ biểu đồ training loss và accuracy\n",
    "N = EPOCHS\n",
    "plt.style.use(\"ggplot\")\n",
    "plt.figure()\n",
    "plt.plot(np.arange(0, N), H.history[\"loss\"], label=\"train_loss\")\n",
    "plt.plot(np.arange(0, N), H.history[\"val_loss\"], label=\"val_loss\")\n",
    "plt.plot(np.arange(0, N), H.history[\"accuracy\"], label=\"train_acc\")\n",
    "plt.plot(np.arange(0, N), H.history[\"val_accuracy\"], label=\"val_acc\")\n",
    "plt.title(\"Training Loss and Accuracy\")\n",
    "plt.xlabel(\"Epoch #\")\n",
    "plt.ylabel(\"Loss/Accuracy\")\n",
    "plt.legend(loc=\"lower left\")\n",
    "plt.savefig(\"chart.png\")"
   ]
  },
  {
   "cell_type": "code",
   "execution_count": null,
   "metadata": {},
   "outputs": [],
   "source": []
  }
 ],
 "metadata": {
  "interpreter": {
   "hash": "64736b94391907d8bd6130c9cc8ec456e9b7c04d79e74f5ed6ea48bfaf91a0d3"
  },
  "kernelspec": {
   "display_name": "Python 3.8.5 64-bit",
   "name": "python3"
  },
  "language_info": {
   "codemirror_mode": {
    "name": "ipython",
    "version": 3
   },
   "file_extension": ".py",
   "mimetype": "text/x-python",
   "name": "python",
   "nbconvert_exporter": "python",
   "pygments_lexer": "ipython3",
   "version": "3.8.5"
  },
  "orig_nbformat": 2
 },
 "nbformat": 4,
 "nbformat_minor": 2
}
